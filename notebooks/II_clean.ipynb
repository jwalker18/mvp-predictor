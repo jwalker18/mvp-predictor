{
 "cells": [
  {
   "cell_type": "markdown",
   "metadata": {},
   "source": [
    "# II. Data Cleaning\n",
    "\n",
    "### In this notebook I merge dataframes, clean, and do some  feature selection."
   ]
  },
  {
   "cell_type": "code",
   "execution_count": 1,
   "metadata": {},
   "outputs": [],
   "source": [
    "import pandas as pd\n",
    "import pickle\n",
    "from mvp_functions.functions import *\n",
    "import numpy as np\n",
    "\n",
    "#Import .pkl files\n",
    "player_stats = pd.read_pickle('PlayerCareerStats.pkl')\n",
    "team_stats = pd.read_pickle('TeamYearByYearStats.pkl')\n",
    "player_awards = pd.read_pickle('PlayerAwards.pkl')"
   ]
  },
  {
   "cell_type": "code",
   "execution_count": 2,
   "metadata": {},
   "outputs": [
    {
     "name": "stderr",
     "output_type": "stream",
     "text": [
      "100%|██████████████████████████████████| 13718/13718 [00:00<00:00, 18432.85it/s]\n"
     ]
    }
   ],
   "source": [
    "#Merge player and team stats\n",
    "team_stats.rename(columns={'YEAR':'SEASON_ID'}, inplace=True)\n",
    "players_teams = player_stats.merge(team_stats, how='inner', on=['TEAM_ID', 'SEASON_ID'],suffixes=('_player','_team'))\n",
    "\n",
    "#Custom function that takes a df and adds player of the week and player of the month columns from awards_df\n",
    "award_freq(players_teams, player_awards)"
   ]
  },
  {
   "cell_type": "code",
   "execution_count": 3,
   "metadata": {},
   "outputs": [],
   "source": [
    "#Merge mvp column from player_awards with player_teams to create final df\n",
    "mvp = player_awards[player_awards['DESCRIPTION']=='NBA Most Valuable Player'].rename(columns={'PERSON_ID':'PLAYER_ID','SEASON':'SEASON_ID','TYPE':'MVP'})\n",
    "df = players_teams.merge(mvp.loc[:,['PLAYER_ID','SEASON_ID','MVP']],how='left',on=['PLAYER_ID', 'SEASON_ID'])\n",
    "df['MVP'] = df.MVP.map({'Award':1,np.NaN:0})\n",
    "\n",
    "#Drop redundant columns and convert season column to single digit\n",
    "df.drop(columns=['GS', 'LEAGUE_ID', 'TEAM_ID', 'TEAM_ABBREVIATION','TEAM_CITY', 'TEAM_NAME', 'NBA_FINALS_APPEARANCE', 'CONF_COUNT', 'DIV_COUNT', 'PO_WINS'],inplace=True)\n",
    "df['SEASON_ID'] = df['SEASON_ID'].map(lambda x: int(x.split('-',1)[0]))\n",
    "\n",
    "#Convert object columns to float\n",
    "convert_float(df)\n",
    "\n",
    "pickle.dump(df, open('df.pkl','wb'))"
   ]
  }
 ],
 "metadata": {
  "kernelspec": {
   "display_name": "Python 3 (ipykernel)",
   "language": "python",
   "name": "python3"
  },
  "language_info": {
   "codemirror_mode": {
    "name": "ipython",
    "version": 3
   },
   "file_extension": ".py",
   "mimetype": "text/x-python",
   "name": "python",
   "nbconvert_exporter": "python",
   "pygments_lexer": "ipython3",
   "version": "3.8.5"
  }
 },
 "nbformat": 4,
 "nbformat_minor": 4
}
