{
 "cells": [
  {
   "cell_type": "markdown",
   "metadata": {},
   "source": [
    "# III. Modeling\n",
    "\n",
    "### In this last notebook I do some more feature engineering then develop and tune the model."
   ]
  },
  {
   "cell_type": "code",
   "execution_count": 1,
   "metadata": {},
   "outputs": [],
   "source": [
    "import pandas as pd\n",
    "import pickle\n",
    "from mvp_functions.functions import *\n",
    "\n",
    "df = pd.read_pickle('df.pkl')"
   ]
  },
  {
   "cell_type": "code",
   "execution_count": 2,
   "metadata": {},
   "outputs": [],
   "source": [
    "#Define feature df\n",
    "X = df.drop(columns=['MVP', 'PLAYER_ID'], axis=1)\n",
    "\n",
    "#Custom function that checks for multicollinearity and drops features with Pearson correlation coefficient >= 0.8\n",
    "drop_corr(X)\n",
    "\n",
    "#Split into training and test set\n",
    "y_train = df.loc[(df['SEASON_ID']>=2000)&(df['SEASON_ID']<2015),:]['MVP']\n",
    "y_test = df.loc[(df['SEASON_ID']>=2015),:]['MVP']\n",
    "X_train = X.loc[(X['SEASON_ID']>=2000)&(X['SEASON_ID']<2015),:]\n",
    "X_test = X.loc[(X['SEASON_ID']>=2015),:]"
   ]
  },
  {
   "cell_type": "code",
   "execution_count": 3,
   "metadata": {},
   "outputs": [
    {
     "data": {
      "image/png": "[encoded data removed]",
      "text/plain": [
       "<Figure size 432x288 with 1 Axes>"
      ]
     },
     "metadata": {
      "needs_background": "light"
     },
     "output_type": "display_data"
    }
   ],
   "source": [
    "from sklearn.ensemble import RandomForestClassifier\n",
    "%matplotlib inline\n",
    "\n",
    "#Custom function that fits the RFC and plots important features\n",
    "rf = RandomForestClassifier(random_state=42)\n",
    "plot_importances(X_train, y_train, rf)"
   ]
  },
  {
   "cell_type": "markdown",
   "metadata": {},
   "source": [
    "### From the plot above, the five most important features, in order are: of player of the weeks, of player of the months, player assists, 3-point FGs made, wins. \n",
    "\n",
    "### Bear in mind that random forests will give outsized importance to features with multiple categories, and correlated features will have lower importance than they would otherwise.\n",
    "\n",
    "### Now it is time to build and tune the model. I use GridSearch to tune the hyperparameters and ROC-AUC as the scoring metric as it offers the best performance for class imbalance problems."
   ]
  },
  {
   "cell_type": "code",
   "execution_count": 4,
   "metadata": {},
   "outputs": [
    {
     "name": "stdout",
     "output_type": "stream",
     "text": [
      "Fitting 10 folds for each of 54 candidates, totalling 540 fits\n"
     ]
    },
    {
     "data": {
      "text/plain": [
       "{'criterion': 'entropy',\n",
       " 'max_depth': None,\n",
       " 'max_features': 'auto',\n",
       " 'n_estimators': 500}"
      ]
     },
     "execution_count": 4,
     "metadata": {},
     "output_type": "execute_result"
    }
   ],
   "source": [
    "#Tune the RandomForestClassifier hyperparameters\n",
    "from sklearn.model_selection import GridSearchCV, cross_val_score, StratifiedKFold, RepeatedStratifiedKFold\n",
    "\n",
    "rfc = RandomForestClassifier(random_state=42)\n",
    "params = {\n",
    "    'n_estimators':[100, 250, 500],\n",
    "    'criterion':['gini', 'entropy'],\n",
    "    'max_features':['auto', 'sqrt', 'log2'],\n",
    "    'max_depth':[None, 5, 10]\n",
    "}\n",
    "cv = StratifiedKFold(n_splits=10, shuffle=True, random_state=42)\n",
    "search = GridSearchCV(estimator=rfc, scoring='roc_auc', cv=cv, param_grid=params, n_jobs=-1, verbose=1)\n",
    "search.fit(X_train, y_train)\n",
    "search.best_params_"
   ]
  },
  {
   "cell_type": "code",
   "execution_count": 5,
   "metadata": {},
   "outputs": [],
   "source": [
    "from sklearn.metrics import roc_auc_score as ROC\n",
    "\n",
    "model = RandomForestClassifier(class_weight='balanced', criterion='entropy', max_depth=None, max_features='auto', n_estimators=500)\n",
    "model.fit(X_train, y_train)\n",
    "\n",
    "#Get prediction probabilities and convert the result to dataframe\n",
    "y_pred_prob = model.predict_proba(X_test)\n",
    "pred_df = pd.DataFrame(y_pred_prob)[[1]].rename(columns={1:'PRED_PROB'})\n",
    "#Concatenate the probabilities with df\n",
    "test = df.loc[(df['SEASON_ID']>=2015),:].reset_index(drop=True)\n",
    "df_ = pd.concat([pred_df, test], axis=1)"
   ]
  },
  {
   "cell_type": "code",
   "execution_count": 9,
   "metadata": {},
   "outputs": [
    {
     "data": {
      "text/html": [
       "<div>\n",
       "<style scoped>\n",
       "    .dataframe tbody tr th:only-of-type {\n",
       "        vertical-align: middle;\n",
       "    }\n",
       "\n",
       "    .dataframe tbody tr th {\n",
       "        vertical-align: top;\n",
       "    }\n",
       "\n",
       "    .dataframe thead th {\n",
       "        text-align: right;\n",
       "    }\n",
       "</style>\n",
       "<table border=\"1\" class=\"dataframe\">\n",
       "  <thead>\n",
       "    <tr style=\"text-align: right;\">\n",
       "      <th></th>\n",
       "      <th>SEASON_ID</th>\n",
       "      <th>DISPLAY_FIRST_LAST</th>\n",
       "      <th>PREDICTIONS</th>\n",
       "      <th>MVP</th>\n",
       "    </tr>\n",
       "  </thead>\n",
       "  <tbody>\n",
       "    <tr>\n",
       "      <th>0</th>\n",
       "      <td>2015</td>\n",
       "      <td>Stephen Curry</td>\n",
       "      <td>1</td>\n",
       "      <td>1</td>\n",
       "    </tr>\n",
       "    <tr>\n",
       "      <th>1</th>\n",
       "      <td>2016</td>\n",
       "      <td>Russell Westbrook</td>\n",
       "      <td>0</td>\n",
       "      <td>1</td>\n",
       "    </tr>\n",
       "    <tr>\n",
       "      <th>2</th>\n",
       "      <td>2016</td>\n",
       "      <td>Stephen Curry</td>\n",
       "      <td>1</td>\n",
       "      <td>0</td>\n",
       "    </tr>\n",
       "    <tr>\n",
       "      <th>3</th>\n",
       "      <td>2017</td>\n",
       "      <td>James Harden</td>\n",
       "      <td>0</td>\n",
       "      <td>1</td>\n",
       "    </tr>\n",
       "    <tr>\n",
       "      <th>4</th>\n",
       "      <td>2017</td>\n",
       "      <td>DeMar DeRozan</td>\n",
       "      <td>1</td>\n",
       "      <td>0</td>\n",
       "    </tr>\n",
       "    <tr>\n",
       "      <th>5</th>\n",
       "      <td>2018</td>\n",
       "      <td>Giannis Antetokounmpo</td>\n",
       "      <td>1</td>\n",
       "      <td>1</td>\n",
       "    </tr>\n",
       "    <tr>\n",
       "      <th>6</th>\n",
       "      <td>2019</td>\n",
       "      <td>Giannis Antetokounmpo</td>\n",
       "      <td>1</td>\n",
       "      <td>1</td>\n",
       "    </tr>\n",
       "    <tr>\n",
       "      <th>7</th>\n",
       "      <td>2020</td>\n",
       "      <td>Nikola Jokic</td>\n",
       "      <td>1</td>\n",
       "      <td>1</td>\n",
       "    </tr>\n",
       "  </tbody>\n",
       "</table>\n",
       "</div>"
      ],
      "text/plain": [
       "   SEASON_ID     DISPLAY_FIRST_LAST  PREDICTIONS  MVP\n",
       "0       2015          Stephen Curry            1    1\n",
       "1       2016      Russell Westbrook            0    1\n",
       "2       2016          Stephen Curry            1    0\n",
       "3       2017           James Harden            0    1\n",
       "4       2017          DeMar DeRozan            1    0\n",
       "5       2018  Giannis Antetokounmpo            1    1\n",
       "6       2019  Giannis Antetokounmpo            1    1\n",
       "7       2020           Nikola Jokic            1    1"
      ]
     },
     "execution_count": 9,
     "metadata": {},
     "output_type": "execute_result"
    }
   ],
   "source": [
    "predictions = []\n",
    "# Custom function that converts predictions to binary true/false and returns results dataframe\n",
    "results = calc_results(df_, predictions)\n",
    "results.to_csv('results.csv')\n",
    "\n",
    "results"
   ]
  },
  {
   "cell_type": "code",
   "execution_count": 7,
   "metadata": {},
   "outputs": [
    {
     "name": "stdout",
     "output_type": "stream",
     "text": [
      "-ROC_AUC SCORE-\n",
      "CV ROC_AUC: 0.997\n",
      "Test ROC_AUC 0.833\n"
     ]
    }
   ],
   "source": [
    "#Compute K-fold cross-validation ROC-AUC score\n",
    "cv = RepeatedStratifiedKFold(n_splits=10, n_repeats=3, random_state=42)\n",
    "ROC_CV = cross_val_score(model, X_train, y_train, scoring='roc_auc', cv=cv, n_jobs=-1)\n",
    "\n",
    "print('-ROC_AUC SCORE-')\n",
    "print('CV ROC_AUC: {:.3f}'.format(ROC_CV.mean()))\n",
    "print('Test ROC_AUC {:.3f}'.format(ROC(y_test, predictions)))"
   ]
  },
  {
   "cell_type": "code",
   "execution_count": 8,
   "metadata": {},
   "outputs": [
    {
     "data": {
      "text/plain": [
       "array([[3506,    2],\n",
       "       [   2,    4]])"
      ]
     },
     "execution_count": 8,
     "metadata": {},
     "output_type": "execute_result"
    }
   ],
   "source": [
    "from sklearn.metrics import confusion_matrix\n",
    "\n",
    "confusion_matrix(y_test, predictions)"
   ]
  },
  {
   "cell_type": "markdown",
   "metadata": {},
   "source": [
    "# Results & Summary:\n",
    "### I used the years 2000-2014 to train the model and the years 2015-2020 to test it. For the 6 years 2015-2020, my model correctly predicted the MVP 4 times, for a ROC-AUC score of 0.833. This score represents good discrimination for the award which is often thought of as being subjective with vague judging criteria. These results indicate that Random Forest Classification is a valid method for predicting the MVP. It should be noted that the sample size is inherently small, so it is difficult to make an official judgement of the model's validity.\n",
    "# Future Work:\n",
    "### Since player of the week/month were the two highest most important features of the model, it may be interesting to break down the important features for winning those awards and incorporate those into the MVP model. "
   ]
  },
  {
   "cell_type": "code",
   "execution_count": null,
   "metadata": {},
   "outputs": [],
   "source": []
  }
 ],
 "metadata": {
  "kernelspec": {
   "display_name": ".venv",
   "language": "python",
   "name": ".venv"
  },
  "language_info": {
   "codemirror_mode": {
    "name": "ipython",
    "version": 3
   },
   "file_extension": ".py",
   "mimetype": "text/x-python",
   "name": "python",
   "nbconvert_exporter": "python",
   "pygments_lexer": "ipython3",
   "version": "3.8.5"
  }
 },
 "nbformat": 4,
 "nbformat_minor": 4
}
