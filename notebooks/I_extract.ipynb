{
 "cells": [
  {
   "cell_type": "markdown",
   "metadata": {},
   "source": [
    "# Motivation\n",
    "\n",
    "### The NBA Most Valuable Player Award is the most prestigious individual award handed out in the regular season. It has large implications for a players' career with MVP winners being viewed as the best in the game. \n",
    "### However, there is no clear criteria for judging the winner, and fans and analysts alike debate fiercly both about who is most deserving as well as the criteria used to determine the MVP. Here, I attempt to elucidate the important features for MVPs and develop a model to predict future winners."
   ]
  },
  {
   "cell_type": "markdown",
   "metadata": {},
   "source": [
    "# I. Extraction\n",
    "\n",
    "### In this notebook I access the stats.nba.com API through use of the nba_api API client to extract player and team information and stats.\n",
    "\n",
    "### nba_api repo located here --> https://github.com/swar/nba_api"
   ]
  },
  {
   "cell_type": "code",
   "execution_count": 1,
   "metadata": {},
   "outputs": [],
   "source": [
    "from nba_api.stats.endpoints.commonallplayers import CommonAllPlayers\n",
    "from nba_api.stats.endpoints.teamyearbyyearstats import TeamYearByYearStats\n",
    "from nba_api.stats.endpoints.playerawards import PlayerAwards\n",
    "from nba_api.stats.endpoints.playercareerstats import PlayerCareerStats\n",
    "from nba_api.stats.static import teams\n",
    "import pandas as pd\n",
    "import pickle\n",
    "\n",
    "#Extract NBA player info and filter to players who played after the year 2000.\n",
    "all_players = CommonAllPlayers().get_data_frames()[0]\n",
    "all_players['TO_YEAR'] = all_players['TO_YEAR'].astype('int64')\n",
    "all_players = all_players[all_players['TO_YEAR']>=2000]\n",
    "\n",
    "#Get player and team ids\n",
    "player_id = all_players['PERSON_ID']\n",
    "team_id = pd.DataFrame(teams.get_teams())['id']\n",
    "\n",
    "player = all_players[['PERSON_ID', 'DISPLAY_FIRST_LAST']]\n",
    "pickle.dump(player, open('player.pkl','wb'))"
   ]
  },
  {
   "cell_type": "code",
   "execution_count": null,
   "metadata": {},
   "outputs": [],
   "source": [
    "#Import custom functions\n",
    "from mvp_functions.functions import *\n",
    "\n",
    "#Initialize dataframes\n",
    "player_career = pd.DataFrame()\n",
    "team_stats = pd.DataFrame()\n",
    "player_awards = pd.DataFrame()\n",
    "\n",
    "#Custom function that extracts stats and dumps the output to .pkl file\n",
    "extract_stats(team_stats, TeamYearByYearStats, team_id)\n",
    "extract_stats(player_career, PlayerCareerStats, player_id)\n",
    "extract_stats(player_awards, PlayerAwards, player_id)"
   ]
  }
 ],
 "metadata": {
  "kernelspec": {
   "display_name": "Python 3 (ipykernel)",
   "language": "python",
   "name": "python3"
  },
  "language_info": {
   "codemirror_mode": {
    "name": "ipython",
    "version": 3
   },
   "file_extension": ".py",
   "mimetype": "text/x-python",
   "name": "python",
   "nbconvert_exporter": "python",
   "pygments_lexer": "ipython3",
   "version": "3.8.5"
  }
 },
 "nbformat": 4,
 "nbformat_minor": 4
}
